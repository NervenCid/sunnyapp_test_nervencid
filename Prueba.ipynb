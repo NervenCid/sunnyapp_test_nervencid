{
 "cells": [
  {
   "cell_type": "markdown",
   "id": "b5977517-bb12-40b5-bcb5-e249f60d7039",
   "metadata": {},
   "source": [
    "# <center>PRUEBA DE CONOCIMIENTOS SUNNYAPP</center>"
   ]
  },
  {
   "cell_type": "markdown",
   "id": "edde18d0-3d0a-4ef8-849f-af174161098a",
   "metadata": {},
   "source": [
    "Importamos las librerias necearias:"
   ]
  },
  {
   "cell_type": "code",
   "execution_count": 1,
   "id": "582a5974-5e98-43b1-8488-e55b182702ab",
   "metadata": {},
   "outputs": [],
   "source": [
    "import pandas as pd\n",
    "from numpy import *\n",
    "import math\n",
    "from threading import Thread"
   ]
  },
  {
   "cell_type": "markdown",
   "id": "50a0ba12-4d78-4be9-95d4-6c58e9dd2ad9",
   "metadata": {},
   "source": [
    "## Parte 1"
   ]
  },
  {
   "cell_type": "markdown",
   "id": "26d4e846-fe99-4dc8-9eb7-d3881f6fdfde",
   "metadata": {},
   "source": [
    "En el hilo principal implementar un codigo que importe los datos pasados por los ingenieros"
   ]
  },
  {
   "cell_type": "markdown",
   "id": "4e2db122-61a2-42b0-a4c8-ac6c8a28dafa",
   "metadata": {},
   "source": [
    "### Desarrollo"
   ]
  },
  {
   "cell_type": "markdown",
   "id": "1c74f6f0-2240-4638-91db-875e02b73129",
   "metadata": {},
   "source": [
    "Creamos una funcion para leer el archivo"
   ]
  },
  {
   "cell_type": "code",
   "execution_count": 2,
   "id": "977aaa8f-bee2-4632-8581-078f9f660561",
   "metadata": {},
   "outputs": [],
   "source": [
    "def read_data_file(file_name):\n",
    "    return pd.read_csv(file_name, sep=\",\")"
   ]
  },
  {
   "cell_type": "markdown",
   "id": "c5c53bd7-444a-47ce-9562-d17cb43e3703",
   "metadata": {},
   "source": [
    "Procedemos a verificar la funcion creada txt:"
   ]
  },
  {
   "cell_type": "code",
   "execution_count": 3,
   "id": "1ebe103b-8628-454d-906c-ce5f512bdf67",
   "metadata": {},
   "outputs": [],
   "source": [
    "dt = read_data_file('datos.txt')"
   ]
  },
  {
   "cell_type": "markdown",
   "id": "1dd8f750-0749-4433-b7ec-333ea7724567",
   "metadata": {},
   "source": [
    "Verificamos el 'dateset' importado"
   ]
  },
  {
   "cell_type": "code",
   "execution_count": 4,
   "id": "6d59ca1e-352c-48d6-976b-c61a6abd6c0a",
   "metadata": {},
   "outputs": [
    {
     "data": {
      "text/html": [
       "<div>\n",
       "<style scoped>\n",
       "    .dataframe tbody tr th:only-of-type {\n",
       "        vertical-align: middle;\n",
       "    }\n",
       "\n",
       "    .dataframe tbody tr th {\n",
       "        vertical-align: top;\n",
       "    }\n",
       "\n",
       "    .dataframe thead th {\n",
       "        text-align: right;\n",
       "    }\n",
       "</style>\n",
       "<table border=\"1\" class=\"dataframe\">\n",
       "  <thead>\n",
       "    <tr style=\"text-align: right;\">\n",
       "      <th></th>\n",
       "      <th>t</th>\n",
       "      <th>theta</th>\n",
       "      <th>v</th>\n",
       "      <th>w</th>\n",
       "    </tr>\n",
       "  </thead>\n",
       "  <tbody>\n",
       "    <tr>\n",
       "      <th>0</th>\n",
       "      <td>1</td>\n",
       "      <td>0</td>\n",
       "      <td>10</td>\n",
       "      <td>0.1</td>\n",
       "    </tr>\n",
       "    <tr>\n",
       "      <th>1</th>\n",
       "      <td>2</td>\n",
       "      <td>10</td>\n",
       "      <td>8</td>\n",
       "      <td>0.5</td>\n",
       "    </tr>\n",
       "    <tr>\n",
       "      <th>2</th>\n",
       "      <td>3</td>\n",
       "      <td>20</td>\n",
       "      <td>7</td>\n",
       "      <td>0.5</td>\n",
       "    </tr>\n",
       "    <tr>\n",
       "      <th>3</th>\n",
       "      <td>4</td>\n",
       "      <td>30</td>\n",
       "      <td>6</td>\n",
       "      <td>0.6</td>\n",
       "    </tr>\n",
       "    <tr>\n",
       "      <th>4</th>\n",
       "      <td>5</td>\n",
       "      <td>40</td>\n",
       "      <td>5</td>\n",
       "      <td>0.7</td>\n",
       "    </tr>\n",
       "    <tr>\n",
       "      <th>5</th>\n",
       "      <td>6</td>\n",
       "      <td>50</td>\n",
       "      <td>8</td>\n",
       "      <td>0.4</td>\n",
       "    </tr>\n",
       "    <tr>\n",
       "      <th>6</th>\n",
       "      <td>7</td>\n",
       "      <td>60</td>\n",
       "      <td>9</td>\n",
       "      <td>0.4</td>\n",
       "    </tr>\n",
       "    <tr>\n",
       "      <th>7</th>\n",
       "      <td>8</td>\n",
       "      <td>70</td>\n",
       "      <td>10</td>\n",
       "      <td>0.3</td>\n",
       "    </tr>\n",
       "    <tr>\n",
       "      <th>8</th>\n",
       "      <td>9</td>\n",
       "      <td>80</td>\n",
       "      <td>12</td>\n",
       "      <td>0.2</td>\n",
       "    </tr>\n",
       "    <tr>\n",
       "      <th>9</th>\n",
       "      <td>10</td>\n",
       "      <td>90</td>\n",
       "      <td>13</td>\n",
       "      <td>0.1</td>\n",
       "    </tr>\n",
       "    <tr>\n",
       "      <th>10</th>\n",
       "      <td>11</td>\n",
       "      <td>100</td>\n",
       "      <td>13</td>\n",
       "      <td>0.1</td>\n",
       "    </tr>\n",
       "    <tr>\n",
       "      <th>11</th>\n",
       "      <td>12</td>\n",
       "      <td>110</td>\n",
       "      <td>13</td>\n",
       "      <td>0.0</td>\n",
       "    </tr>\n",
       "    <tr>\n",
       "      <th>12</th>\n",
       "      <td>13</td>\n",
       "      <td>120</td>\n",
       "      <td>13</td>\n",
       "      <td>0.0</td>\n",
       "    </tr>\n",
       "    <tr>\n",
       "      <th>13</th>\n",
       "      <td>14</td>\n",
       "      <td>130</td>\n",
       "      <td>14</td>\n",
       "      <td>0.0</td>\n",
       "    </tr>\n",
       "    <tr>\n",
       "      <th>14</th>\n",
       "      <td>15</td>\n",
       "      <td>140</td>\n",
       "      <td>15</td>\n",
       "      <td>0.0</td>\n",
       "    </tr>\n",
       "    <tr>\n",
       "      <th>15</th>\n",
       "      <td>16</td>\n",
       "      <td>150</td>\n",
       "      <td>12</td>\n",
       "      <td>0.2</td>\n",
       "    </tr>\n",
       "    <tr>\n",
       "      <th>16</th>\n",
       "      <td>17</td>\n",
       "      <td>160</td>\n",
       "      <td>9</td>\n",
       "      <td>0.8</td>\n",
       "    </tr>\n",
       "    <tr>\n",
       "      <th>17</th>\n",
       "      <td>18</td>\n",
       "      <td>170</td>\n",
       "      <td>8</td>\n",
       "      <td>0.6</td>\n",
       "    </tr>\n",
       "    <tr>\n",
       "      <th>18</th>\n",
       "      <td>19</td>\n",
       "      <td>180</td>\n",
       "      <td>7</td>\n",
       "      <td>0.5</td>\n",
       "    </tr>\n",
       "    <tr>\n",
       "      <th>19</th>\n",
       "      <td>20</td>\n",
       "      <td>190</td>\n",
       "      <td>6</td>\n",
       "      <td>0.4</td>\n",
       "    </tr>\n",
       "  </tbody>\n",
       "</table>\n",
       "</div>"
      ],
      "text/plain": [
       "     t  theta   v    w\n",
       "0    1      0  10  0.1\n",
       "1    2     10   8  0.5\n",
       "2    3     20   7  0.5\n",
       "3    4     30   6  0.6\n",
       "4    5     40   5  0.7\n",
       "5    6     50   8  0.4\n",
       "6    7     60   9  0.4\n",
       "7    8     70  10  0.3\n",
       "8    9     80  12  0.2\n",
       "9   10     90  13  0.1\n",
       "10  11    100  13  0.1\n",
       "11  12    110  13  0.0\n",
       "12  13    120  13  0.0\n",
       "13  14    130  14  0.0\n",
       "14  15    140  15  0.0\n",
       "15  16    150  12  0.2\n",
       "16  17    160   9  0.8\n",
       "17  18    170   8  0.6\n",
       "18  19    180   7  0.5\n",
       "19  20    190   6  0.4"
      ]
     },
     "execution_count": 4,
     "metadata": {},
     "output_type": "execute_result"
    }
   ],
   "source": [
    "dt"
   ]
  },
  {
   "cell_type": "markdown",
   "id": "b05825ca-1e32-454f-8c5f-33d509d42ce0",
   "metadata": {},
   "source": [
    "Mas adelante se reutilizara este codigo"
   ]
  },
  {
   "cell_type": "markdown",
   "id": "b0ecc9b8-d807-4137-bc46-0932808ec211",
   "metadata": {},
   "source": [
    "## Parte 2"
   ]
  },
  {
   "cell_type": "markdown",
   "id": "e2570f54-30d5-49f8-8659-90a8d3f6fbde",
   "metadata": {},
   "source": [
    "En un hilo secundario, ejecutar las operaciones matemáticas necesarias (ver figura a continuación) para obtener la velocidad de las llantas."
   ]
  },
  {
   "attachments": {
    "10fc4916-d4a3-4540-b716-a94aff420c6d.png": {
     "image/png": "[encoded data removed]"
    }
   },
   "cell_type": "markdown",
   "id": "97cf3e82-8455-4d5e-a1ce-0748d9d28beb",
   "metadata": {},
   "source": [
    "![image.png](attachment:10fc4916-d4a3-4540-b716-a94aff420c6d.png)"
   ]
  },
  {
   "cell_type": "markdown",
   "id": "0f0807f8-b8c5-4ab1-8f63-5fb014cd58d6",
   "metadata": {},
   "source": [
    "### Desarrollo"
   ]
  },
  {
   "cell_type": "markdown",
   "id": "4656d8ba-a725-4cb6-b1d6-50c1051c2d26",
   "metadata": {},
   "source": [
    "1. Primero debe tomar las variables $v(t)$, $w(t)$ y transformalas a las variables de velocidad cartesianas $x'(t)$, $y'(t)$ y $\\theta'(t)$. Esto lo puede hacer a partir de la siguiente operación matricial:"
   ]
  },
  {
   "attachments": {
    "60b129ae-204e-41fb-8066-a8d3d8d59351.png": {
     "image/png": "[encoded data removed]"
    }
   },
   "cell_type": "markdown",
   "id": "c1cd4b92-26c0-435d-96b9-984f29ec9cf9",
   "metadata": {},
   "source": [
    "![image.png](attachment:60b129ae-204e-41fb-8066-a8d3d8d59351.png)"
   ]
  },
  {
   "cell_type": "markdown",
   "id": "7e3dc28a-c34b-4f3a-80bf-673b202d3d46",
   "metadata": {},
   "source": [
    "Creamos la funcion para calcular vector de movimiento en el marco global:"
   ]
  },
  {
   "cell_type": "code",
   "execution_count": 5,
   "id": "e5a800a4-fb6c-44ab-ad58-a1e5bd299029",
   "metadata": {},
   "outputs": [],
   "source": [
    "def speed_vector(theta, v, w):\n",
    "    r=array([\n",
    "        [cos(theta), sin(theta)],\n",
    "        [-sin(theta), cos(theta)], \n",
    "        [0, 1]])\n",
    "    s=array([v, w])\n",
    "    return dot(r, s)\n",
    "    "
   ]
  },
  {
   "cell_type": "markdown",
   "id": "07ebcdbd-9b70-47d5-8728-594087c2d8ae",
   "metadata": {},
   "source": [
    "Probamos la funcion con la primera fila de del dataset:"
   ]
  },
  {
   "cell_type": "code",
   "execution_count": 6,
   "id": "0abde638-12e9-4155-af52-dc49b26774fb",
   "metadata": {},
   "outputs": [
    {
     "data": {
      "text/plain": [
       "array([10. ,  0.1,  0.1])"
      ]
     },
     "execution_count": 6,
     "metadata": {},
     "output_type": "execute_result"
    }
   ],
   "source": [
    "xip_I_test=speed_vector(dt.iloc[0]['theta'], dt.iloc[0]['v'], dt.iloc[0]['w'])\n",
    "xip_I_test"
   ]
  },
  {
   "cell_type": "markdown",
   "id": "0bb1c168-6b85-4709-9979-70dbf5361f91",
   "metadata": {},
   "source": [
    "2. Una vez obtenido $\\xi'_I$ el vector de movimiento en el marco global, debe transformarlo al vector en marco local con:"
   ]
  },
  {
   "attachments": {
    "40c5a22d-b2be-4a43-b76e-f62919db33dc.png": {
     "image/png": "[encoded data removed]"
    }
   },
   "cell_type": "markdown",
   "id": "f350e34e-a8a3-414a-80d3-8ccc3e8b903d",
   "metadata": {},
   "source": [
    "![image.png](attachment:40c5a22d-b2be-4a43-b76e-f62919db33dc.png)"
   ]
  },
  {
   "cell_type": "markdown",
   "id": "f7f124b8-02fe-419c-9c57-ff0efee1b58e",
   "metadata": {},
   "source": [
    "Creamos la funcion para realizar la transformación:"
   ]
  },
  {
   "cell_type": "code",
   "execution_count": 7,
   "id": "5d70168f-1d11-4172-bb38-2e6809f31e1c",
   "metadata": {},
   "outputs": [],
   "source": [
    "def local_frame_transform(theta, xip_I):\n",
    "    r=array([\n",
    "        [cos(theta), -sin(theta), 0],\n",
    "        [-sin(theta), cos(theta), 0],\n",
    "        [0, 0, 1]])\n",
    "    return dot(r, xip_I)"
   ]
  },
  {
   "cell_type": "markdown",
   "id": "acba6990-f7cf-41e1-aba8-e3367c72ff15",
   "metadata": {},
   "source": [
    "Probamos la funcion:"
   ]
  },
  {
   "cell_type": "code",
   "execution_count": 8,
   "id": "f22eeb4e-7e77-4285-834b-4e2b08f3a89d",
   "metadata": {},
   "outputs": [
    {
     "data": {
      "text/plain": [
       "array([10. ,  0.1,  0.1])"
      ]
     },
     "execution_count": 8,
     "metadata": {},
     "output_type": "execute_result"
    }
   ],
   "source": [
    "xip_R_test=local_frame_transform(dt.iloc[0]['theta'], xip_I_test)\n",
    "xip_R_test"
   ]
  },
  {
   "cell_type": "markdown",
   "id": "506595e1-0948-4391-ba97-2090b42e4672",
   "metadata": {},
   "source": [
    "3. Por ultimo, se debe tomar este vector resultado y convertirlo en nuestro vector deseado $\\phi_{Iz}(t)$, $\\phi_{De}(t)$"
   ]
  },
  {
   "cell_type": "markdown",
   "id": "2cd0703a-ff00-4b03-8c05-88250e8b0b2c",
   "metadata": {},
   "source": [
    "Esta conversión se da a partir de la definición:"
   ]
  },
  {
   "attachments": {
    "00470b70-08d5-4117-818c-13b609aa636f.png": {
     "image/png": "[encoded data removed]"
    }
   },
   "cell_type": "markdown",
   "id": "eb9dbb08-b3ce-4609-9f87-420b6664b0eb",
   "metadata": {},
   "source": [
    "![image.png](attachment:00470b70-08d5-4117-818c-13b609aa636f.png)"
   ]
  },
  {
   "cell_type": "markdown",
   "id": "94ccfab9-2e88-4b1b-9b5f-b9b3d390d7ed",
   "metadata": {},
   "source": [
    "Donde $J_1$ es la matriz Jacobiano que describe que describe las llantas del robot:"
   ]
  },
  {
   "attachments": {
    "d651afaf-c356-41d6-a03b-b13e98858dfb.png": {
     "image/png": "[encoded data removed]"
    }
   },
   "cell_type": "markdown",
   "id": "3dedb1d5-0f0f-4158-9c18-36ccfa1885fd",
   "metadata": {},
   "source": [
    "![image.png](attachment:d651afaf-c356-41d6-a03b-b13e98858dfb.png)"
   ]
  },
  {
   "cell_type": "markdown",
   "id": "1a4f4bde-1e69-4ce1-a945-eea833409d55",
   "metadata": {},
   "source": [
    "Para este ejercicio, asuma:"
   ]
  },
  {
   "attachments": {
    "fcf35426-96d2-493c-ad65-de62a4bf6291.png": {
     "image/png": "[encoded data removed]"
    }
   },
   "cell_type": "markdown",
   "id": "aa4746c8-9fb3-4540-b755-10b95c9338b1",
   "metadata": {},
   "source": [
    "![image.png](attachment:fcf35426-96d2-493c-ad65-de62a4bf6291.png)"
   ]
  },
  {
   "cell_type": "markdown",
   "id": "768f1654-2b25-46e1-adbc-6f1afafdbb8e",
   "metadata": {},
   "source": [
    "Y donde $J_{2}^{-1}$ se define como:"
   ]
  },
  {
   "attachments": {
    "d0eb3a2a-39de-4265-bc68-af0937d0a278.png": {
     "image/png": "[encoded data removed]"
    }
   },
   "cell_type": "markdown",
   "id": "2f457b51-790d-4768-9e7b-3e104a90364a",
   "metadata": {},
   "source": [
    "![image.png](attachment:d0eb3a2a-39de-4265-bc68-af0937d0a278.png)"
   ]
  },
  {
   "cell_type": "markdown",
   "id": "202de58b-aa49-4e16-9e56-b67dea4f0134",
   "metadata": {},
   "source": [
    "Donde:"
   ]
  },
  {
   "attachments": {
    "d532f121-6678-4eaf-a7da-6ab0c4cd4954.png": {
     "image/png": "[encoded data removed]"
    }
   },
   "cell_type": "markdown",
   "id": "3612c296-fcda-4b6a-ab1e-8e192265a584",
   "metadata": {},
   "source": [
    "![image.png](attachment:d532f121-6678-4eaf-a7da-6ab0c4cd4954.png)"
   ]
  },
  {
   "cell_type": "markdown",
   "id": "6ed89b02-813a-4727-ab44-50553800045e",
   "metadata": {},
   "source": [
    "Declaramos las constantes:"
   ]
  },
  {
   "cell_type": "code",
   "execution_count": 9,
   "id": "bcc4dc5c-c755-46ae-86df-ba0c2ab4cc8b",
   "metadata": {},
   "outputs": [],
   "source": [
    "alpha_Iz=math.pi/2\n",
    "alpha_De=math.pi/2\n",
    "betha_Iz=math.pi\n",
    "betha_De=0\n",
    "l=80\n",
    "\n",
    "r_Iz=r_De=35\n",
    "\n",
    "J_1=array([\n",
    "    [sin(alpha_Iz+betha_Iz), -cos(alpha_Iz+betha_Iz), -l*cos(betha_Iz)],\n",
    "    [sin(alpha_De+betha_De), -cos(alpha_De+betha_De), -l*cos(betha_De)]])\n",
    "\n",
    "J_2_1=array([\n",
    "    [(1/r_Iz), 0],\n",
    "    [0, (1/r_De)]])"
   ]
  },
  {
   "cell_type": "markdown",
   "id": "0dacd92a-6664-4533-a622-01608e1c6e41",
   "metadata": {},
   "source": [
    "Definimos la funcion para el vector deseado:"
   ]
  },
  {
   "cell_type": "code",
   "execution_count": 10,
   "id": "00d55626-5b8f-46aa-8203-22a41b6feceb",
   "metadata": {},
   "outputs": [],
   "source": [
    "def result_vector(xip_R, j1, j2_1):\n",
    "    return  dot(dot(j1, xip_R), j2_1)"
   ]
  },
  {
   "cell_type": "code",
   "execution_count": 11,
   "id": "03bdf7f2-a7ca-4ba5-b6e0-5efef5991e95",
   "metadata": {},
   "outputs": [
    {
     "data": {
      "text/plain": [
       "array([-0.05714286,  0.05714286])"
      ]
     },
     "execution_count": 11,
     "metadata": {},
     "output_type": "execute_result"
    }
   ],
   "source": [
    "result_vector(xip_R_test, J_1, J_2_1)"
   ]
  },
  {
   "cell_type": "markdown",
   "id": "55bb5856-fd29-43a8-8ed3-05e35c23a4c9",
   "metadata": {},
   "source": [
    "## Parte 3"
   ]
  },
  {
   "cell_type": "markdown",
   "id": "280228bf-99e7-43e3-90d5-46db22447931",
   "metadata": {},
   "source": [
    "En el hilo principal exportar el resultado de las transformaciones."
   ]
  },
  {
   "cell_type": "markdown",
   "id": "a512b40e-0232-45fc-bea9-0fde53129605",
   "metadata": {},
   "source": [
    "Procedemos a crear los hilos:"
   ]
  },
  {
   "cell_type": "code",
   "execution_count": 12,
   "id": "11cbd079-dfef-406b-8afb-71838931463f",
   "metadata": {},
   "outputs": [],
   "source": [
    "class CustomThread(Thread):\n",
    "    def __init__(self, group=None, target=None, name=None,\n",
    "                 args=(), kwargs={}, Verbose=None):\n",
    "        Thread.__init__(self, group, target, name, args, kwargs)\n",
    "        self._return = None\n",
    " \n",
    "    def run(self):\n",
    "        if self._target is not None:\n",
    "            self._return = self._target(*self._args, **self._kwargs)\n",
    "             \n",
    "    def join(self, *args):\n",
    "        Thread.join(self, *args)\n",
    "        return self._return"
   ]
  },
  {
   "cell_type": "code",
   "execution_count": 13,
   "id": "b69a077a-b582-4259-98bb-777deafec4ae",
   "metadata": {},
   "outputs": [
    {
     "data": {
      "text/html": [
       "<div>\n",
       "<style scoped>\n",
       "    .dataframe tbody tr th:only-of-type {\n",
       "        vertical-align: middle;\n",
       "    }\n",
       "\n",
       "    .dataframe tbody tr th {\n",
       "        vertical-align: top;\n",
       "    }\n",
       "\n",
       "    .dataframe thead th {\n",
       "        text-align: right;\n",
       "    }\n",
       "</style>\n",
       "<table border=\"1\" class=\"dataframe\">\n",
       "  <thead>\n",
       "    <tr style=\"text-align: right;\">\n",
       "      <th></th>\n",
       "      <th>t</th>\n",
       "      <th>theta</th>\n",
       "      <th>v</th>\n",
       "      <th>w</th>\n",
       "    </tr>\n",
       "  </thead>\n",
       "  <tbody>\n",
       "    <tr>\n",
       "      <th>0</th>\n",
       "      <td>1</td>\n",
       "      <td>0</td>\n",
       "      <td>10</td>\n",
       "      <td>0.1</td>\n",
       "    </tr>\n",
       "    <tr>\n",
       "      <th>1</th>\n",
       "      <td>2</td>\n",
       "      <td>10</td>\n",
       "      <td>8</td>\n",
       "      <td>0.5</td>\n",
       "    </tr>\n",
       "    <tr>\n",
       "      <th>2</th>\n",
       "      <td>3</td>\n",
       "      <td>20</td>\n",
       "      <td>7</td>\n",
       "      <td>0.5</td>\n",
       "    </tr>\n",
       "    <tr>\n",
       "      <th>3</th>\n",
       "      <td>4</td>\n",
       "      <td>30</td>\n",
       "      <td>6</td>\n",
       "      <td>0.6</td>\n",
       "    </tr>\n",
       "    <tr>\n",
       "      <th>4</th>\n",
       "      <td>5</td>\n",
       "      <td>40</td>\n",
       "      <td>5</td>\n",
       "      <td>0.7</td>\n",
       "    </tr>\n",
       "    <tr>\n",
       "      <th>5</th>\n",
       "      <td>6</td>\n",
       "      <td>50</td>\n",
       "      <td>8</td>\n",
       "      <td>0.4</td>\n",
       "    </tr>\n",
       "    <tr>\n",
       "      <th>6</th>\n",
       "      <td>7</td>\n",
       "      <td>60</td>\n",
       "      <td>9</td>\n",
       "      <td>0.4</td>\n",
       "    </tr>\n",
       "    <tr>\n",
       "      <th>7</th>\n",
       "      <td>8</td>\n",
       "      <td>70</td>\n",
       "      <td>10</td>\n",
       "      <td>0.3</td>\n",
       "    </tr>\n",
       "    <tr>\n",
       "      <th>8</th>\n",
       "      <td>9</td>\n",
       "      <td>80</td>\n",
       "      <td>12</td>\n",
       "      <td>0.2</td>\n",
       "    </tr>\n",
       "    <tr>\n",
       "      <th>9</th>\n",
       "      <td>10</td>\n",
       "      <td>90</td>\n",
       "      <td>13</td>\n",
       "      <td>0.1</td>\n",
       "    </tr>\n",
       "    <tr>\n",
       "      <th>10</th>\n",
       "      <td>11</td>\n",
       "      <td>100</td>\n",
       "      <td>13</td>\n",
       "      <td>0.1</td>\n",
       "    </tr>\n",
       "    <tr>\n",
       "      <th>11</th>\n",
       "      <td>12</td>\n",
       "      <td>110</td>\n",
       "      <td>13</td>\n",
       "      <td>0.0</td>\n",
       "    </tr>\n",
       "    <tr>\n",
       "      <th>12</th>\n",
       "      <td>13</td>\n",
       "      <td>120</td>\n",
       "      <td>13</td>\n",
       "      <td>0.0</td>\n",
       "    </tr>\n",
       "    <tr>\n",
       "      <th>13</th>\n",
       "      <td>14</td>\n",
       "      <td>130</td>\n",
       "      <td>14</td>\n",
       "      <td>0.0</td>\n",
       "    </tr>\n",
       "    <tr>\n",
       "      <th>14</th>\n",
       "      <td>15</td>\n",
       "      <td>140</td>\n",
       "      <td>15</td>\n",
       "      <td>0.0</td>\n",
       "    </tr>\n",
       "    <tr>\n",
       "      <th>15</th>\n",
       "      <td>16</td>\n",
       "      <td>150</td>\n",
       "      <td>12</td>\n",
       "      <td>0.2</td>\n",
       "    </tr>\n",
       "    <tr>\n",
       "      <th>16</th>\n",
       "      <td>17</td>\n",
       "      <td>160</td>\n",
       "      <td>9</td>\n",
       "      <td>0.8</td>\n",
       "    </tr>\n",
       "    <tr>\n",
       "      <th>17</th>\n",
       "      <td>18</td>\n",
       "      <td>170</td>\n",
       "      <td>8</td>\n",
       "      <td>0.6</td>\n",
       "    </tr>\n",
       "    <tr>\n",
       "      <th>18</th>\n",
       "      <td>19</td>\n",
       "      <td>180</td>\n",
       "      <td>7</td>\n",
       "      <td>0.5</td>\n",
       "    </tr>\n",
       "    <tr>\n",
       "      <th>19</th>\n",
       "      <td>20</td>\n",
       "      <td>190</td>\n",
       "      <td>6</td>\n",
       "      <td>0.4</td>\n",
       "    </tr>\n",
       "  </tbody>\n",
       "</table>\n",
       "</div>"
      ],
      "text/plain": [
       "     t  theta   v    w\n",
       "0    1      0  10  0.1\n",
       "1    2     10   8  0.5\n",
       "2    3     20   7  0.5\n",
       "3    4     30   6  0.6\n",
       "4    5     40   5  0.7\n",
       "5    6     50   8  0.4\n",
       "6    7     60   9  0.4\n",
       "7    8     70  10  0.3\n",
       "8    9     80  12  0.2\n",
       "9   10     90  13  0.1\n",
       "10  11    100  13  0.1\n",
       "11  12    110  13  0.0\n",
       "12  13    120  13  0.0\n",
       "13  14    130  14  0.0\n",
       "14  15    140  15  0.0\n",
       "15  16    150  12  0.2\n",
       "16  17    160   9  0.8\n",
       "17  18    170   8  0.6\n",
       "18  19    180   7  0.5\n",
       "19  20    190   6  0.4"
      ]
     },
     "execution_count": 13,
     "metadata": {},
     "output_type": "execute_result"
    }
   ],
   "source": [
    "thread_read_file = CustomThread(target=read_data_file, args=('datos.txt',))\n",
    "thread_read_file.start()\n",
    "data = thread_read_file.join()\n",
    "data"
   ]
  },
  {
   "cell_type": "code",
   "execution_count": 14,
   "id": "dd59b7f5-8137-45cc-a02b-d21b6ef8b627",
   "metadata": {},
   "outputs": [],
   "source": [
    "def calculations(dx):\n",
    "    dr = pd.DataFrame(columns = ['tiempo', 'Velocidad Angular rueda izquierda', 'Velocidad Angular rueda derecha'])\n",
    "    for (idx, row) in dx.iterrows():\n",
    "        xip_I_row=speed_vector(row.loc['theta'], row.loc['v'], row.loc['w'])\n",
    "        xip_R_row=local_frame_transform(row.loc['theta'], xip_I_row)\n",
    "        result_vector_row=result_vector(xip_R_row, J_1, J_2_1)\n",
    "        dr.loc[idx]= [dx.iloc[idx]['t'], result_vector_row[0],result_vector_row[1]]\n",
    "    return dr"
   ]
  },
  {
   "cell_type": "code",
   "execution_count": 15,
   "id": "81231d95-2438-4d0b-8b3c-1bc5a9ac3ae5",
   "metadata": {
    "scrolled": true
   },
   "outputs": [
    {
     "data": {
      "text/html": [
       "<div>\n",
       "<style scoped>\n",
       "    .dataframe tbody tr th:only-of-type {\n",
       "        vertical-align: middle;\n",
       "    }\n",
       "\n",
       "    .dataframe tbody tr th {\n",
       "        vertical-align: top;\n",
       "    }\n",
       "\n",
       "    .dataframe thead th {\n",
       "        text-align: right;\n",
       "    }\n",
       "</style>\n",
       "<table border=\"1\" class=\"dataframe\">\n",
       "  <thead>\n",
       "    <tr style=\"text-align: right;\">\n",
       "      <th></th>\n",
       "      <th>tiempo</th>\n",
       "      <th>Velocidad Angular rueda izquierda</th>\n",
       "      <th>Velocidad Angular rueda derecha</th>\n",
       "    </tr>\n",
       "  </thead>\n",
       "  <tbody>\n",
       "    <tr>\n",
       "      <th>0</th>\n",
       "      <td>1.0</td>\n",
       "      <td>-0.057143</td>\n",
       "      <td>0.057143</td>\n",
       "    </tr>\n",
       "    <tr>\n",
       "      <th>1</th>\n",
       "      <td>2.0</td>\n",
       "      <td>0.914286</td>\n",
       "      <td>-0.914286</td>\n",
       "    </tr>\n",
       "    <tr>\n",
       "      <th>2</th>\n",
       "      <td>3.0</td>\n",
       "      <td>0.942857</td>\n",
       "      <td>-0.942857</td>\n",
       "    </tr>\n",
       "    <tr>\n",
       "      <th>3</th>\n",
       "      <td>4.0</td>\n",
       "      <td>1.200000</td>\n",
       "      <td>-1.200000</td>\n",
       "    </tr>\n",
       "    <tr>\n",
       "      <th>4</th>\n",
       "      <td>5.0</td>\n",
       "      <td>1.457143</td>\n",
       "      <td>-1.457143</td>\n",
       "    </tr>\n",
       "    <tr>\n",
       "      <th>5</th>\n",
       "      <td>6.0</td>\n",
       "      <td>0.685714</td>\n",
       "      <td>-0.685714</td>\n",
       "    </tr>\n",
       "    <tr>\n",
       "      <th>6</th>\n",
       "      <td>7.0</td>\n",
       "      <td>0.657143</td>\n",
       "      <td>-0.657143</td>\n",
       "    </tr>\n",
       "    <tr>\n",
       "      <th>7</th>\n",
       "      <td>8.0</td>\n",
       "      <td>0.400000</td>\n",
       "      <td>-0.400000</td>\n",
       "    </tr>\n",
       "    <tr>\n",
       "      <th>8</th>\n",
       "      <td>9.0</td>\n",
       "      <td>0.114286</td>\n",
       "      <td>-0.114286</td>\n",
       "    </tr>\n",
       "    <tr>\n",
       "      <th>9</th>\n",
       "      <td>10.0</td>\n",
       "      <td>-0.142857</td>\n",
       "      <td>0.142857</td>\n",
       "    </tr>\n",
       "    <tr>\n",
       "      <th>10</th>\n",
       "      <td>11.0</td>\n",
       "      <td>-0.142857</td>\n",
       "      <td>0.142857</td>\n",
       "    </tr>\n",
       "    <tr>\n",
       "      <th>11</th>\n",
       "      <td>12.0</td>\n",
       "      <td>-0.371429</td>\n",
       "      <td>0.371429</td>\n",
       "    </tr>\n",
       "    <tr>\n",
       "      <th>12</th>\n",
       "      <td>13.0</td>\n",
       "      <td>-0.371429</td>\n",
       "      <td>0.371429</td>\n",
       "    </tr>\n",
       "    <tr>\n",
       "      <th>13</th>\n",
       "      <td>14.0</td>\n",
       "      <td>-0.400000</td>\n",
       "      <td>0.400000</td>\n",
       "    </tr>\n",
       "    <tr>\n",
       "      <th>14</th>\n",
       "      <td>15.0</td>\n",
       "      <td>-0.428571</td>\n",
       "      <td>0.428571</td>\n",
       "    </tr>\n",
       "    <tr>\n",
       "      <th>15</th>\n",
       "      <td>16.0</td>\n",
       "      <td>0.114286</td>\n",
       "      <td>-0.114286</td>\n",
       "    </tr>\n",
       "    <tr>\n",
       "      <th>16</th>\n",
       "      <td>17.0</td>\n",
       "      <td>1.571429</td>\n",
       "      <td>-1.571429</td>\n",
       "    </tr>\n",
       "    <tr>\n",
       "      <th>17</th>\n",
       "      <td>18.0</td>\n",
       "      <td>1.142857</td>\n",
       "      <td>-1.142857</td>\n",
       "    </tr>\n",
       "    <tr>\n",
       "      <th>18</th>\n",
       "      <td>19.0</td>\n",
       "      <td>0.942857</td>\n",
       "      <td>-0.942857</td>\n",
       "    </tr>\n",
       "    <tr>\n",
       "      <th>19</th>\n",
       "      <td>20.0</td>\n",
       "      <td>0.742857</td>\n",
       "      <td>-0.742857</td>\n",
       "    </tr>\n",
       "  </tbody>\n",
       "</table>\n",
       "</div>"
      ],
      "text/plain": [
       "    tiempo  Velocidad Angular rueda izquierda  Velocidad Angular rueda derecha\n",
       "0      1.0                          -0.057143                         0.057143\n",
       "1      2.0                           0.914286                        -0.914286\n",
       "2      3.0                           0.942857                        -0.942857\n",
       "3      4.0                           1.200000                        -1.200000\n",
       "4      5.0                           1.457143                        -1.457143\n",
       "5      6.0                           0.685714                        -0.685714\n",
       "6      7.0                           0.657143                        -0.657143\n",
       "7      8.0                           0.400000                        -0.400000\n",
       "8      9.0                           0.114286                        -0.114286\n",
       "9     10.0                          -0.142857                         0.142857\n",
       "10    11.0                          -0.142857                         0.142857\n",
       "11    12.0                          -0.371429                         0.371429\n",
       "12    13.0                          -0.371429                         0.371429\n",
       "13    14.0                          -0.400000                         0.400000\n",
       "14    15.0                          -0.428571                         0.428571\n",
       "15    16.0                           0.114286                        -0.114286\n",
       "16    17.0                           1.571429                        -1.571429\n",
       "17    18.0                           1.142857                        -1.142857\n",
       "18    19.0                           0.942857                        -0.942857\n",
       "19    20.0                           0.742857                        -0.742857"
      ]
     },
     "execution_count": 15,
     "metadata": {},
     "output_type": "execute_result"
    }
   ],
   "source": [
    "thread_result = CustomThread(target=calculations, args=(data,))\n",
    "thread_result.start()\n",
    "result_data_frame = thread_result.join()\n",
    "result_data_frame"
   ]
  },
  {
   "cell_type": "markdown",
   "id": "d87269a9-9e3a-4323-bb35-ef77460d7924",
   "metadata": {},
   "source": [
    "Procedemos a registrar en  un archivo:"
   ]
  },
  {
   "cell_type": "code",
   "execution_count": 16,
   "id": "28cd0aad-c78c-40ef-9c1f-5fb439b1169b",
   "metadata": {},
   "outputs": [],
   "source": [
    "result_data_frame.to_csv('resultado.txt', sep=',', index=False)"
   ]
  },
  {
   "cell_type": "markdown",
   "id": "f32d8eac-1bf3-433f-90d6-babb05f39889",
   "metadata": {},
   "source": [
    "## Parte 4"
   ]
  },
  {
   "cell_type": "markdown",
   "id": "2c8f6ebf-942e-4db9-8942-960a040f5d12",
   "metadata": {},
   "source": [
    "Implemntar graficos:"
   ]
  },
  {
   "cell_type": "code",
   "execution_count": 17,
   "id": "cc6ea003-9b14-41fe-b8eb-20c0e659e49a",
   "metadata": {},
   "outputs": [],
   "source": [
    "import matplotlib.pyplot as plt"
   ]
  },
  {
   "cell_type": "code",
   "execution_count": 18,
   "id": "156baf46-fee3-434b-93ea-37eed7f5d332",
   "metadata": {},
   "outputs": [
    {
     "data": {
      "text/plain": [
       "[<matplotlib.lines.Line2D at 0x2dffac29dd0>]"
      ]
     },
     "execution_count": 18,
     "metadata": {},
     "output_type": "execute_result"
    },
    {
     "data": {
      "image/png": "[encoded data removed]",
      "text/plain": [
       "<Figure size 640x480 with 1 Axes>"
      ]
     },
     "metadata": {},
     "output_type": "display_data"
    }
   ],
   "source": [
    "plt.xlabel(\"tiempo\")\n",
    "plt.ylabel(r\"Velocidad Angular rueda derecha $\\phi_{De}$\")\n",
    "plt.plot(result_data_frame[\"tiempo\"], result_data_frame[\"Velocidad Angular rueda derecha\"])"
   ]
  },
  {
   "cell_type": "code",
   "execution_count": 19,
   "id": "14bdcaaa-1bb8-4b0b-b53a-124f78e86072",
   "metadata": {},
   "outputs": [
    {
     "data": {
      "text/plain": [
       "[<matplotlib.lines.Line2D at 0x2dffb052bd0>]"
      ]
     },
     "execution_count": 19,
     "metadata": {},
     "output_type": "execute_result"
    },
    {
     "data": {
      "image/png": "[encoded data removed]",
      "text/plain": [
       "<Figure size 640x480 with 1 Axes>"
      ]
     },
     "metadata": {},
     "output_type": "display_data"
    }
   ],
   "source": [
    "plt.xlabel(\"tiempo\")\n",
    "plt.ylabel(r\"Velocidad Angular rueda izquierda $\\phi_{Iz}$\")\n",
    "plt.plot(result_data_frame[\"tiempo\"], result_data_frame[\"Velocidad Angular rueda izquierda\"])"
   ]
  },
  {
   "cell_type": "code",
   "execution_count": null,
   "id": "82763a45-664f-4aa5-ba1e-782476e65568",
   "metadata": {},
   "outputs": [],
   "source": []
  }
 ],
 "metadata": {
  "kernelspec": {
   "display_name": "Python 3 (ipykernel)",
   "language": "python",
   "name": "python3"
  },
  "language_info": {
   "codemirror_mode": {
    "name": "ipython",
    "version": 3
   },
   "file_extension": ".py",
   "mimetype": "text/x-python",
   "name": "python",
   "nbconvert_exporter": "python",
   "pygments_lexer": "ipython3",
   "version": "3.11.2"
  }
 },
 "nbformat": 4,
 "nbformat_minor": 5
}
